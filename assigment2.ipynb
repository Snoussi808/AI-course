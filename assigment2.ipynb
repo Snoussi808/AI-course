{
 "cells": [
  {
   "cell_type": "code",
   "execution_count": 31,
   "id": "13d32ba0-7538-422c-aacb-12ff3729250c",
   "metadata": {},
   "outputs": [
    {
     "name": "stdin",
     "output_type": "stream",
     "text": [
      "first lengths of triangle 6\n",
      "secound lengths of triangle 8\n",
      "thired lengths of triangle 12\n"
     ]
    },
    {
     "name": "stdout",
     "output_type": "stream",
     "text": [
      "scalene triangle\n"
     ]
    }
   ],
   "source": [
    "#Q1\n",
    "x = int(input(\"first lengths of triangle\"))\n",
    "y = int(input(\"secound lengths of triangle\"))\n",
    "z = int(input(\"thired lengths of triangle\"))\n",
    "if x==y==z:\n",
    "    print(\"equilateral triangle\")\n",
    "elif x==y or x==z or y==z:\n",
    "    print(\"isosceles triangle\")\n",
    "else:\n",
    "    print(\"scalene triangle\")"
   ]
  },
  {
   "cell_type": "code",
   "execution_count": 44,
   "id": "459ee3e4-320c-4d93-a5d5-ecf0efb56e20",
   "metadata": {},
   "outputs": [],
   "source": [
    "#Q2\n",
    "def pizza_cost(num_pizzas, cost_per_pizza=12, delivery_charge=5):\n",
    "    total_cost = (num_pizzas * cost_per_pizza) + delivery_charge\n",
    "    return total_cost"
   ]
  },
  {
   "cell_type": "code",
   "execution_count": 36,
   "id": "58cc5724-1dcc-4db1-8f76-49dae13706ca",
   "metadata": {},
   "outputs": [
    {
     "data": {
      "text/plain": [
       "41"
      ]
     },
     "execution_count": 36,
     "metadata": {},
     "output_type": "execute_result"
    }
   ],
   "source": [
    "pizza_cost(3)"
   ]
  },
  {
   "cell_type": "code",
   "execution_count": 1,
   "id": "70239cd7-5f50-44f3-8942-8463f73c8c29",
   "metadata": {},
   "outputs": [],
   "source": [
    "#Q3\n",
    "import re\n",
    "def is_valid_password(password):\n",
    "    if len(password) < 6 or len(password) > 16:\n",
    "        return False\n",
    "    if not re.search(r\"[a-z]\", password):\n",
    "        return False\n",
    "    if not re.search(r\"[A-Z]\", password):\n",
    "        return False\n",
    "    if not re.search(r\"[0-9]\", password):\n",
    "        return False\n",
    "    if not re.search(r\"[$#@]\", password):\n",
    "        return False\n",
    "    return True"
   ]
  },
  {
   "cell_type": "code",
   "execution_count": 76,
   "id": "acd39a12-2a4d-42bd-8d05-36044b9af66b",
   "metadata": {},
   "outputs": [
    {
     "data": {
      "text/plain": [
       "False"
      ]
     },
     "execution_count": 76,
     "metadata": {},
     "output_type": "execute_result"
    }
   ],
   "source": [
    "is_valid_password(\"12452184MO#\")"
   ]
  },
  {
   "cell_type": "code",
   "execution_count": 5,
   "id": "326f79cd-5878-42ca-a38e-ef01c81ca4ed",
   "metadata": {},
   "outputs": [],
   "source": [
    "#Q4\n",
    "def final_grade(score,extra_credit=0,maximum_possible_score=100):\n",
    "    final_grade= score + extra_credit\n",
    "    return final_grade"
   ]
  },
  {
   "cell_type": "code",
   "execution_count": 9,
   "id": "4908d324-3eaf-47a2-90d2-2889cd0070a4",
   "metadata": {},
   "outputs": [
    {
     "data": {
      "text/plain": [
       "95"
      ]
     },
     "execution_count": 9,
     "metadata": {},
     "output_type": "execute_result"
    }
   ],
   "source": [
    "final_grade(90,5)"
   ]
  },
  {
   "cell_type": "code",
   "execution_count": 120,
   "id": "b8424997-2912-425b-9806-4adb5c4f4cf3",
   "metadata": {},
   "outputs": [],
   "source": [
    "#Q5\n",
    "def generate_fibonacci(n):\n",
    "    fib_series = []\n",
    "    a, b = 0, 1\n",
    "    for i in range(n):\n",
    "        fib_series.append(a)\n",
    "        a, b = b, a + b  # Update values for the next iteration\n",
    "    return fib_series"
   ]
  },
  {
   "cell_type": "code",
   "execution_count": 122,
   "id": "0a6a5fe4-8a85-4611-91f0-28d592be9f9c",
   "metadata": {},
   "outputs": [
    {
     "data": {
      "text/plain": [
       "[0, 1, 1, 2, 3]"
      ]
     },
     "execution_count": 122,
     "metadata": {},
     "output_type": "execute_result"
    }
   ],
   "source": [
    "generate_fibonacci(5)"
   ]
  },
  {
   "cell_type": "code",
   "execution_count": 127,
   "id": "706e5134-edc1-4c30-807b-c7b468b18ad0",
   "metadata": {},
   "outputs": [
    {
     "name": "stdin",
     "output_type": "stream",
     "text": [
      "Enter the first number:  99\n",
      "Enter the second number:  99\n",
      "Enter an operator (+, -, *, /):  *\n"
     ]
    },
    {
     "name": "stdout",
     "output_type": "stream",
     "text": [
      "Result: 9801.0\n"
     ]
    }
   ],
   "source": [
    "#Q6\n",
    "def calculate(num1, num2, operator):\n",
    "   \n",
    "    if operator == '+':\n",
    "        return num1 + num2\n",
    "    elif operator == '-':\n",
    "        return num1 - num2\n",
    "    elif operator == '*':\n",
    "        return num1 * num2\n",
    "    elif operator == '/':\n",
    "        if num2 != 0:\n",
    "            return num1 / num2\n",
    "        else:\n",
    "            return \"Error: Division by zero is not allowed.\"\n",
    "    else:\n",
    "        return \"Error: Invalid operator. Please use +, -, *, or /.\"\n",
    "num1 = float(input(\"Enter the first number: \"))\n",
    "num2 = float(input(\"Enter the second number: \"))\n",
    "operator = input(\"Enter an operator (+, -, *, /): \")\n",
    "result = calculate(num1, num2, operator)\n",
    "print(f\"Result: {result}\")"
   ]
  },
  {
   "cell_type": "code",
   "execution_count": 64,
   "id": "2a61836d-8474-426c-a976-80431c58a999",
   "metadata": {},
   "outputs": [],
   "source": [
    "#Q7\n",
    "def is_divisible_by_11(number):\n",
    "    return number % 11 == 0"
   ]
  },
  {
   "cell_type": "code",
   "execution_count": 68,
   "id": "e9cc87b9-c9e8-446b-ac47-eadbda13d0b8",
   "metadata": {},
   "outputs": [
    {
     "data": {
      "text/plain": [
       "True"
      ]
     },
     "execution_count": 68,
     "metadata": {},
     "output_type": "execute_result"
    }
   ],
   "source": [
    "is_divisible_by_11(99)"
   ]
  },
  {
   "cell_type": "code",
   "execution_count": 74,
   "id": "5ffe9357-3791-45d3-9560-2cb662092746",
   "metadata": {},
   "outputs": [],
   "source": [
    "#Q8\n",
    "def fuel_cost(distance, mpg=50, fuel_price=1):\n",
    "    miles_per_litre = mpg / 3.78541\n",
    "    litres_needed = distance / miles_per_litre\n",
    "    total_cost = litres_needed * fuel_price\n",
    "    \n",
    "    return total_cost"
   ]
  },
  {
   "cell_type": "code",
   "execution_count": 78,
   "id": "57d5965a-4b2e-4ee5-85a8-3de5f65eb434",
   "metadata": {},
   "outputs": [
    {
     "data": {
      "text/plain": [
       "7.4951118"
      ]
     },
     "execution_count": 78,
     "metadata": {},
     "output_type": "execute_result"
    }
   ],
   "source": [
    "fuel_cost(99)"
   ]
  },
  {
   "cell_type": "code",
   "execution_count": 107,
   "id": "d2dfca33-04ad-449b-a1f6-6bfc0386c051",
   "metadata": {},
   "outputs": [
    {
     "name": "stdin",
     "output_type": "stream",
     "text": [
      "Input a year:  2015\n",
      "Input a month [1-12]:  8\n",
      "Input a day [1-31]:  5\n"
     ]
    },
    {
     "name": "stdout",
     "output_type": "stream",
     "text": [
      "The next date is: 2015-8-6\n"
     ]
    }
   ],
   "source": [
    "#Q9\n",
    "def get_next_day(year, month, day):\n",
    "    if month == 12 and day == 31:\n",
    "        return f\"{year + 1}-1-1\"\n",
    "    \n",
    "    \n",
    "    days_in_month = [31, 29 if (year % 4 == 0 and (year % 100 != 0 or year % 400 == 0)) else 28,\n",
    "                     31, 30, 31, 30, 31, 31, 30, 31, 30, 31]\n",
    "\n",
    "    if day < days_in_month[month - 1]: \n",
    "        return f\"{year}-{month}-{day + 1}\"\n",
    "    else:  \n",
    "        if month == 12:  \n",
    "            return f\"{year + 1}-1-1\"\n",
    "        else:\n",
    "            return f\"{year}-{month + 1}-1\"\n",
    "year = int(input(\"Input a year: \"))\n",
    "month = int(input(\"Input a month [1-12]: \"))\n",
    "day = int(input(\"Input a day [1-31]: \"))\n",
    "next_date = get_next_day(year, month, day)\n",
    "print(f\"The next date is: {next_date}\")\n"
   ]
  },
  {
   "cell_type": "code",
   "execution_count": 83,
   "id": "5addd336-f3d4-4f5d-8997-f2de7e2cb727",
   "metadata": {},
   "outputs": [],
   "source": [
    "#Q10\n",
    "def find_median(a, b, c):\n",
    "    \n",
    "    values = [a, b, c]\n",
    "    values.sort()\n",
    "    return values[1]"
   ]
  },
  {
   "cell_type": "code",
   "execution_count": 87,
   "id": "bdeac9b0-4b0a-4f25-be03-2be29199dd07",
   "metadata": {},
   "outputs": [
    {
     "data": {
      "text/plain": [
       "98"
      ]
     },
     "execution_count": 87,
     "metadata": {},
     "output_type": "execute_result"
    }
   ],
   "source": [
    "find_median(97, 99, 98)"
   ]
  },
  {
   "cell_type": "code",
   "execution_count": null,
   "id": "888a4783-b0e5-4ad5-afb9-cca0c1b45ede",
   "metadata": {},
   "outputs": [],
   "source": []
  }
 ],
 "metadata": {
  "kernelspec": {
   "display_name": "Python 3 (ipykernel)",
   "language": "python",
   "name": "python3"
  },
  "language_info": {
   "codemirror_mode": {
    "name": "ipython",
    "version": 3
   },
   "file_extension": ".py",
   "mimetype": "text/x-python",
   "name": "python",
   "nbconvert_exporter": "python",
   "pygments_lexer": "ipython3",
   "version": "3.12.4"
  }
 },
 "nbformat": 4,
 "nbformat_minor": 5
}
